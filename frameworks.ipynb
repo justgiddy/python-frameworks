import pandas as pd
import seaborn as sb
import numpy as np
import matplotlib.pyplot as plt

# import data from dataset
df = pd.read_csv('metadata_sample.csv')
print("Data loaded successfully")
print("Begin data cleaning")
